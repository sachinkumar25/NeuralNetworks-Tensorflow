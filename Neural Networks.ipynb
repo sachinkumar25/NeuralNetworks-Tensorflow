{
 "cells": [
  {
   "cell_type": "code",
   "execution_count": 16,
   "metadata": {},
   "outputs": [],
   "source": [
    "import tensorflow as tf\n",
    "from tensorflow import keras"
   ]
  },
  {
   "cell_type": "code",
   "execution_count": 17,
   "metadata": {},
   "outputs": [],
   "source": [
    "fashion_mnist = keras.datasets.fashion_mnist\n",
    "(X_train_full, y_train_full), (X_test, y_test) = fashion_mnist.load_data()"
   ]
  },
  {
   "cell_type": "code",
   "execution_count": 18,
   "metadata": {},
   "outputs": [],
   "source": [
    "X_valid, X_train = X_train_full[:5000]/ 255. , X_train_full[5000:]/ 255.\n",
    "\n",
    "y_valid, y_train = y_train_full[:5000]/ 255. , y_train_full[5000:]/ 255.\n",
    "\n",
    "X_test = X_test / 255."
   ]
  },
  {
   "cell_type": "code",
   "execution_count": 19,
   "metadata": {},
   "outputs": [],
   "source": [
    "model = keras.models.Sequential()\n",
    "model.add(keras.layers.Flatten(input_shape = [28, 28], name = 'input'))\n",
    "model.add(keras.layers.Dense(300, activation = 'relu', name = 'hidden1' ))\n",
    "model.add(keras.layers.Dense(200, activation = 'relu', name = 'hidden2' ))\n",
    "model.add(keras.layers.Dense(10, activation = 'softmax', name = 'output' ))\n"
   ]
  },
  {
   "cell_type": "code",
   "execution_count": 20,
   "metadata": {},
   "outputs": [
    {
     "name": "stdout",
     "output_type": "stream",
     "text": [
      "Model: \"sequential_3\"\n",
      "_________________________________________________________________\n",
      "Layer (type)                 Output Shape              Param #   \n",
      "=================================================================\n",
      "input (Flatten)              (None, 784)               0         \n",
      "_________________________________________________________________\n",
      "hidden1 (Dense)              (None, 300)               235500    \n",
      "_________________________________________________________________\n",
      "hidden2 (Dense)              (None, 200)               60200     \n",
      "_________________________________________________________________\n",
      "output (Dense)               (None, 10)                2010      \n",
      "=================================================================\n",
      "Total params: 297,710\n",
      "Trainable params: 297,710\n",
      "Non-trainable params: 0\n",
      "_________________________________________________________________\n"
     ]
    }
   ],
   "source": [
    "model.summary()"
   ]
  },
  {
   "cell_type": "code",
   "execution_count": 21,
   "metadata": {},
   "outputs": [],
   "source": [
    "model.compile(loss=\"sparse_categorical_crossentropy\", optimizer=\"sgd\", metrics=[\"accuracy\"])"
   ]
  },
  {
   "cell_type": "code",
   "execution_count": 22,
   "metadata": {},
   "outputs": [
    {
     "name": "stdout",
     "output_type": "stream",
     "text": [
      "Epoch 1/30\n",
      "1719/1719 [==============================] - 5s 3ms/step - loss: 0.0135 - accuracy: 0.1007 - val_loss: 0.0010 - val_accuracy: 0.0914\n",
      "Epoch 2/30\n",
      "1719/1719 [==============================] - 5s 3ms/step - loss: 7.3334e-04 - accuracy: 0.1008 - val_loss: 4.9058e-04 - val_accuracy: 0.0914\n",
      "Epoch 3/30\n",
      "1719/1719 [==============================] - 5s 3ms/step - loss: 4.0458e-04 - accuracy: 0.1008 - val_loss: 3.1857e-04 - val_accuracy: 0.0914\n",
      "Epoch 4/30\n",
      "1719/1719 [==============================] - 5s 3ms/step - loss: 2.7720e-04 - accuracy: 0.1008 - val_loss: 2.3506e-04 - val_accuracy: 0.0914\n",
      "Epoch 5/30\n",
      "1719/1719 [==============================] - 5s 3ms/step - loss: 2.0982e-04 - accuracy: 0.1008 - val_loss: 1.8578e-04 - val_accuracy: 0.0914\n",
      "Epoch 6/30\n",
      "1719/1719 [==============================] - 5s 3ms/step - loss: 1.6825e-04 - accuracy: 0.1008 - val_loss: 1.5337e-04 - val_accuracy: 0.0914\n",
      "Epoch 7/30\n",
      "1719/1719 [==============================] - 5s 3ms/step - loss: 1.4014e-04 - accuracy: 0.1008 - val_loss: 1.3046e-04 - val_accuracy: 0.0914\n",
      "Epoch 8/30\n",
      "1719/1719 [==============================] - 5s 3ms/step - loss: 1.1988e-04 - accuracy: 0.1008 - val_loss: 1.1341e-04 - val_accuracy: 0.0914\n",
      "Epoch 9/30\n",
      "1719/1719 [==============================] - 5s 3ms/step - loss: 1.0461e-04 - accuracy: 0.1008 - val_loss: 1.0025e-04 - val_accuracy: 0.0914\n",
      "Epoch 10/30\n",
      "1719/1719 [==============================] - 5s 3ms/step - loss: 9.2709e-05 - accuracy: 0.1008 - val_loss: 8.9775e-05 - val_accuracy: 0.0914oss: 9.5\n",
      "Epoch 11/30\n",
      "1719/1719 [==============================] - 5s 3ms/step - loss: 8.3173e-05 - accuracy: 0.1008 - val_loss: 8.1244e-05 - val_accuracy: 0.0914\n",
      "Epoch 12/30\n",
      "1719/1719 [==============================] - 5s 3ms/step - loss: 7.5369e-05 - accuracy: 0.1008 - val_loss: 7.4162e-05 - val_accuracy: 0.0914: 0s - loss: 7.5351e-05 - accuracy: 0.10\n",
      "Epoch 13/30\n",
      "1719/1719 [==============================] - 5s 3ms/step - loss: 6.8866e-05 - accuracy: 0.1008 - val_loss: 6.8204e-05 - val_accuracy: 0.0914\n",
      "Epoch 14/30\n",
      "1719/1719 [==============================] - 5s 3ms/step - loss: 6.3375e-05 - accuracy: 0.1008 - val_loss: 6.3115e-05 - val_accuracy: 0.0914\n",
      "Epoch 15/30\n",
      "1719/1719 [==============================] - 5s 3ms/step - loss: 5.8672e-05 - accuracy: 0.1008 - val_loss: 5.8718e-05 - val_accuracy: 0.0914\n",
      "Epoch 16/30\n",
      "1719/1719 [==============================] - 5s 3ms/step - loss: 5.4601e-05 - accuracy: 0.1008 - val_loss: 5.4885e-05 - val_accuracy: 0.0914\n",
      "Epoch 17/30\n",
      "1719/1719 [==============================] - 5s 3ms/step - loss: 5.1044e-05 - accuracy: 0.1008 - val_loss: 5.1512e-05 - val_accuracy: 0.0914\n",
      "Epoch 18/30\n",
      "1719/1719 [==============================] - 7s 4ms/step - loss: 4.7909e-05 - accuracy: 0.1008 - val_loss: 4.8523e-05 - val_accuracy: 0.0914\n",
      "Epoch 19/30\n",
      "1719/1719 [==============================] - 6s 3ms/step - loss: 4.5129e-05 - accuracy: 0.1008 - val_loss: 4.5854e-05 - val_accuracy: 0.0914\n",
      "Epoch 20/30\n",
      "1719/1719 [==============================] - 5s 3ms/step - loss: 4.2645e-05 - accuracy: 0.1008 - val_loss: 4.3460e-05 - val_accuracy: 0.0914\n",
      "Epoch 21/30\n",
      "1719/1719 [==============================] - 5s 3ms/step - loss: 4.0415e-05 - accuracy: 0.1008 - val_loss: 4.1298e-05 - val_accuracy: 0.0914\n",
      "Epoch 22/30\n",
      "1719/1719 [==============================] - 5s 3ms/step - loss: 3.8399e-05 - accuracy: 0.1008 - val_loss: 3.9338e-05 - val_accuracy: 0.0914\n",
      "Epoch 23/30\n",
      "1719/1719 [==============================] - 5s 3ms/step - loss: 3.6571e-05 - accuracy: 0.1008 - val_loss: 3.7551e-05 - val_accuracy: 0.0914\n",
      "Epoch 24/30\n",
      "1719/1719 [==============================] - 7s 4ms/step - loss: 3.4904e-05 - accuracy: 0.1008 - val_loss: 3.5916e-05 - val_accuracy: 0.0914\n",
      "Epoch 25/30\n",
      "1719/1719 [==============================] - 5s 3ms/step - loss: 3.3379e-05 - accuracy: 0.1008 - val_loss: 3.4415e-05 - val_accuracy: 0.0914\n",
      "Epoch 26/30\n",
      "1719/1719 [==============================] - 6s 3ms/step - loss: 3.1978e-05 - accuracy: 0.1008 - val_loss: 3.3034e-05 - val_accuracy: 0.0914\n",
      "Epoch 27/30\n",
      "1719/1719 [==============================] - 5s 3ms/step - loss: 3.0688e-05 - accuracy: 0.1008 - val_loss: 3.1755e-05 - val_accuracy: 0.0914\n",
      "Epoch 28/30\n",
      "1719/1719 [==============================] - 4s 3ms/step - loss: 2.9496e-05 - accuracy: 0.1008 - val_loss: 3.0571e-05 - val_accuracy: 0.0914\n",
      "Epoch 29/30\n",
      "1719/1719 [==============================] - 5s 3ms/step - loss: 2.8389e-05 - accuracy: 0.1008 - val_loss: 2.9471e-05 - val_accuracy: 0.0914\n",
      "Epoch 30/30\n",
      "1719/1719 [==============================] - 5s 3ms/step - loss: 2.7361e-05 - accuracy: 0.1008 - val_loss: 2.8444e-05 - val_accuracy: 0.0914\n"
     ]
    }
   ],
   "source": [
    "history = model.fit(X_train, y_train, epochs=30,\n",
    "                validation_data=(X_valid, y_valid))"
   ]
  },
  {
   "cell_type": "code",
   "execution_count": null,
   "metadata": {},
   "outputs": [],
   "source": []
  }
 ],
 "metadata": {
  "kernelspec": {
   "display_name": "Python 3",
   "language": "python",
   "name": "python3"
  },
  "language_info": {
   "codemirror_mode": {
    "name": "ipython",
    "version": 3
   },
   "file_extension": ".py",
   "mimetype": "text/x-python",
   "name": "python",
   "nbconvert_exporter": "python",
   "pygments_lexer": "ipython3",
   "version": "3.6.5"
  }
 },
 "nbformat": 4,
 "nbformat_minor": 2
}
